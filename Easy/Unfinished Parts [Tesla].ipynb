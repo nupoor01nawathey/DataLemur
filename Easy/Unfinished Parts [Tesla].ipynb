{
 "cells": [
  {
   "cell_type": "code",
   "execution_count": 7,
   "id": "bd139b94",
   "metadata": {},
   "outputs": [
    {
     "name": "stdout",
     "output_type": "stream",
     "text": [
      "+-------+-------------------+----+\n",
      "|part   |finish_date        |step|\n",
      "+-------+-------------------+----+\n",
      "|battery|01/22/2022 00:00:00|1   |\n",
      "|battery|02/22/2022 00:00:00|2   |\n",
      "|battery|03/22/2022 00:00:00|3   |\n",
      "|bumper |01/22/2022 00:00:00|1   |\n",
      "|bumper |02/22/2022 00:00:00|2   |\n",
      "|bumper |null               |3   |\n",
      "|bumper |null               |4   |\n",
      "+-------+-------------------+----+\n",
      "\n"
     ]
    },
    {
     "data": {
      "text/plain": [
       "import org.apache.spark.sql.types.{StructType, StructField, StringType, IntegerType}\n",
       "import org.apache.spark.sql.functions._\n",
       "import org.apache.spark.sql.Row\n",
       "data: Seq[org.apache.spark.sql.Row] = List([battery,01/22/2022 00:00:00,1], [battery,02/22/2022 00:00:00,2], [battery,03/22/2022 00:00:00,3], [bumper,01/22/2022 00:00:00,1], [bumper,02/22/2022 00:00:00,2], [bumper,null,3], [bumper,null,4])\n",
       "schema: org.apache.spark.sql.types.StructType = StructType(StructField(part,StringType,true),StructField(finish_date,StringType,true),StructField(step,IntegerType,true))\n",
       "rdd: org.apache.spark.rdd.RDD[org.apache.spark.sql.Row] = ParallelCollectionRDD[12] at parallelize at <console>:76\n",
       "df: org.apache.spark.sql.DataFrame = [part: string, finish_date: string ... 1 more field]\n"
      ]
     },
     "execution_count": 7,
     "metadata": {},
     "output_type": "execute_result"
    }
   ],
   "source": [
    "// Tesla is investigating production bottlenecks and they need your help to extract the relevant data. \n",
    "// Write a query to determine which parts have begun the assembly process but are not yet finished.\n",
    "\n",
    "// Assumptions:\n",
    "// parts_assembly table contains all parts currently in production, each at varying stages of the assembly process.\n",
    "// An unfinished part is one that lacks a finish_date.\n",
    "// This question is straightforward, so let's approach it with simplicity in both thinking and solution.\n",
    "\n",
    "// Effective April 11th 2023, the problem statement and assumptions were updated to enhance clarity.\n",
    "\n",
    "// Example Output\n",
    "// part\tassembly_step\n",
    "// bumper\t3\n",
    "// bumper\t4\n",
    "\n",
    "// Explanation\n",
    "// The bumpers in step 3 and 4 are the only item that remains unfinished as it lacks a recorded finish date.\n",
    "\n",
    "import org.apache.spark.sql.types.{StructType, StructField, StringType, IntegerType}\n",
    "import org.apache.spark.sql.functions._\n",
    "import org.apache.spark.sql.Row\n",
    "\n",
    "\n",
    "val data = Seq(\n",
    "  Row(\"battery\",\"01/22/2022 00:00:00\",1),\n",
    "  Row(\"battery\",\"02/22/2022 00:00:00\",2),\n",
    "  Row(\"battery\",\"03/22/2022 00:00:00\",3),\n",
    "  Row(\"bumper\",\"01/22/2022 00:00:00\",1),\n",
    "  Row(\"bumper\",\"02/22/2022 00:00:00\",2),\n",
    "  Row(\"bumper\",null.asInstanceOf[String],3),\n",
    "  Row(\"bumper\",null.asInstanceOf[String],4)\n",
    ")\n",
    "\n",
    "val schema = StructType(Array(\n",
    "    StructField(\"part\", StringType),\n",
    "    StructField(\"finish_date\", StringType),\n",
    "    StructField(\"step\", IntegerType)    \n",
    "))\n",
    "\n",
    "val rdd = spark.sparkContext.parallelize(data)\n",
    "val df = spark.createDataFrame(rdd, schema)\n",
    "\n",
    "df.show(false)\n",
    "\n"
   ]
  },
  {
   "cell_type": "code",
   "execution_count": 8,
   "id": "70b7fe82",
   "metadata": {},
   "outputs": [
    {
     "name": "stdout",
     "output_type": "stream",
     "text": [
      "Using Dataframes -------- \n",
      "== Physical Plan ==\n",
      "*(1) Project [part#71, step#73]\n",
      "+- *(1) Filter isnull(finish_date#72)\n",
      "   +- *(1) Scan ExistingRDD[part#71,finish_date#72,step#73]\n",
      "\n",
      "\n",
      "+------+----+\n",
      "|part  |step|\n",
      "+------+----+\n",
      "|bumper|3   |\n",
      "|bumper|4   |\n",
      "+------+----+\n",
      "\n"
     ]
    },
    {
     "data": {
      "text/plain": [
       "df1: org.apache.spark.sql.Dataset[org.apache.spark.sql.Row] = [part: string, step: int]\n"
      ]
     },
     "execution_count": 8,
     "metadata": {},
     "output_type": "execute_result"
    }
   ],
   "source": [
    "println(\"Using Dataframes -------- \")\n",
    "\n",
    "val df1 = df.select(\"part\", \"step\").where($\"finish_date\".isNull)\n",
    "\n",
    "df1.explain()\n",
    "df1.show(false)\n"
   ]
  },
  {
   "cell_type": "code",
   "execution_count": 13,
   "id": "7a0a3b6c",
   "metadata": {},
   "outputs": [
    {
     "name": "stdout",
     "output_type": "stream",
     "text": [
      "Using Spark SQL -------- \n",
      "== Physical Plan ==\n",
      "*(1) Project [part#71, step#73]\n",
      "+- *(1) Filter isnull(finish_date#72)\n",
      "   +- *(1) Scan ExistingRDD[part#71,finish_date#72,step#73]\n",
      "\n",
      "\n",
      "+------+----+\n",
      "|part  |step|\n",
      "+------+----+\n",
      "|bumper|3   |\n",
      "|bumper|4   |\n",
      "+------+----+\n",
      "\n"
     ]
    },
    {
     "data": {
      "text/plain": [
       "df2: org.apache.spark.sql.DataFrame = [part: string, step: int]\n"
      ]
     },
     "execution_count": 13,
     "metadata": {},
     "output_type": "execute_result"
    }
   ],
   "source": [
    "println(\"Using Spark SQL -------- \")\n",
    "\n",
    "df.createOrReplaceTempView(\"parts_assembly\")\n",
    "\n",
    "val df2 = spark.sql(\"\"\"\n",
    "    SELECT\n",
    "        part,\n",
    "        step\n",
    "    FROM parts_assembly\n",
    "    WHERE finish_date IS NULL\n",
    "\"\"\")\n",
    "\n",
    "df2.explain()\n",
    "df2.show(false)\n"
   ]
  },
  {
   "cell_type": "code",
   "execution_count": null,
   "id": "930b36a8",
   "metadata": {},
   "outputs": [],
   "source": []
  }
 ],
 "metadata": {
  "kernelspec": {
   "display_name": "spylon-kernel",
   "language": "scala",
   "name": "spylon-kernel"
  },
  "language_info": {
   "codemirror_mode": "text/x-scala",
   "file_extension": ".scala",
   "help_links": [
    {
     "text": "MetaKernel Magics",
     "url": "https://metakernel.readthedocs.io/en/latest/source/README.html"
    }
   ],
   "mimetype": "text/x-scala",
   "name": "scala",
   "pygments_lexer": "scala",
   "version": "0.4.1"
  }
 },
 "nbformat": 4,
 "nbformat_minor": 5
}
