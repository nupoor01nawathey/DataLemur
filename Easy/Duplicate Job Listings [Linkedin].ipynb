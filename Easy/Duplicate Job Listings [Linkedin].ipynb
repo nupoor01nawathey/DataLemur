{
 "cells": [
  {
   "cell_type": "code",
   "execution_count": 1,
   "id": "4d48f428",
   "metadata": {},
   "outputs": [
    {
     "data": {
      "text/plain": [
       "Intitializing Scala interpreter ..."
      ]
     },
     "metadata": {},
     "output_type": "display_data"
    },
    {
     "data": {
      "text/plain": [
       "Spark Web UI available at http://192.168.1.5:4040\n",
       "SparkContext available as 'sc' (version = 3.4.1, master = local[*], app id = local-1703499162287)\n",
       "SparkSession available as 'spark'\n"
      ]
     },
     "metadata": {},
     "output_type": "display_data"
    },
    {
     "name": "stdout",
     "output_type": "stream",
     "text": [
      "+------+----------+----------------+----------------------------------------------------------------------------------------------------------------------------------------------------------------------------------------+\n",
      "|job_id|company_id|title           |description                                                                                                                                                                             |\n",
      "+------+----------+----------------+----------------------------------------------------------------------------------------------------------------------------------------------------------------------------------------+\n",
      "|248   |827       |Business Analyst|Business analyst evaluates past and current business data with the primary goal of improving decision-making processes within organizations.                                            |\n",
      "|149   |845       |Business Analyst|Business analyst evaluates past and current business data with the primary goal of improving decision-making processes within organizations.                                            |\n",
      "|945   |345       |Data Analyst    |Data analyst reviews data to identify key insights into a business's customers and ways the data can be used to solve problems.                                                         |\n",
      "|164   |345       |Data Analyst    |Data analyst reviews data to identify key insights into a business's customers and ways the data can be used to solve problems.                                                         |\n",
      "|172   |244       |Data Engineer   |Data engineer works in a variety of settings to build systems that collect, manage, and convert raw data into usable information for data scientists and business analysts to interpret.|\n",
      "+------+----------+----------------+----------------------------------------------------------------------------------------------------------------------------------------------------------------------------------------+\n",
      "\n"
     ]
    },
    {
     "data": {
      "text/plain": [
       "df: org.apache.spark.sql.DataFrame = [job_id: int, company_id: int ... 2 more fields]\n"
      ]
     },
     "execution_count": 1,
     "metadata": {},
     "output_type": "execute_result"
    }
   ],
   "source": [
    "// Assume you're given a table containing job postings from various companies on the LinkedIn platform. Write a query to retrieve the count of companies that have posted duplicate job listings.\n",
    "\n",
    "// Definition:\n",
    "\n",
    "// Duplicate job listings are defined as two job listings within the same company that share identical titles and descriptions.\n",
    "\n",
    "// Example Output:\n",
    "// duplicate_companies\n",
    "// --------------------\n",
    "// 1\n",
    "\n",
    "val df = Seq(\n",
    "  (248,827,\"Business Analyst\",\"Business analyst evaluates past and current business data with the primary goal of improving decision-making processes within organizations.\"),\n",
    "  (149,845,\"Business Analyst\",\"Business analyst evaluates past and current business data with the primary goal of improving decision-making processes within organizations.\"),\n",
    "  (945,345,\"Data Analyst\",\"Data analyst reviews data to identify key insights into a business's customers and ways the data can be used to solve problems.\"),\n",
    "  (164,345,\"Data Analyst\",\"Data analyst reviews data to identify key insights into a business's customers and ways the data can be used to solve problems.\"),\n",
    "  (172,244,\"Data Engineer\",\"Data engineer works in a variety of settings to build systems that collect, manage, and convert raw data into usable information for data scientists and business analysts to interpret.\")\n",
    ").toDF(\"job_id\",\"company_id\",\"title\",\"description\")\n",
    "\n",
    "\n",
    "df.show(false)\n"
   ]
  },
  {
   "cell_type": "code",
   "execution_count": 17,
   "id": "61dce646",
   "metadata": {},
   "outputs": [
    {
     "name": "stdout",
     "output_type": "stream",
     "text": [
      "== Physical Plan ==\n",
      "AdaptiveSparkPlan isFinalPlan=false\n",
      "+- Filter (count#312L > 1)\n",
      "   +- HashAggregate(keys=[company_id#14, title#15, description#16], functions=[count(1)])\n",
      "      +- Exchange hashpartitioning(company_id#14, title#15, description#16, 200), ENSURE_REQUIREMENTS, [plan_id=859]\n",
      "         +- HashAggregate(keys=[company_id#14, title#15, description#16], functions=[partial_count(1)])\n",
      "            +- LocalTableScan [company_id#14, title#15, description#16]\n",
      "\n",
      "\n",
      "+----------+------------+-------------------------------------------------------------------------------------------------------------------------------+-----+\n",
      "|company_id|title       |description                                                                                                                    |count|\n",
      "+----------+------------+-------------------------------------------------------------------------------------------------------------------------------+-----+\n",
      "|345       |Data Analyst|Data analyst reviews data to identify key insights into a business's customers and ways the data can be used to solve problems.|2    |\n",
      "+----------+------------+-------------------------------------------------------------------------------------------------------------------------------+-----+\n",
      "\n"
     ]
    },
    {
     "data": {
      "text/plain": [
       "df1: org.apache.spark.sql.Dataset[org.apache.spark.sql.Row] = [company_id: int, title: string ... 2 more fields]\n"
      ]
     },
     "execution_count": 17,
     "metadata": {},
     "output_type": "execute_result"
    }
   ],
   "source": [
    "// Using Dataframe API\n",
    "\n",
    "val df1 = df.groupBy($\"company_id\", $\"title\", $\"description\").count().where($\"count\" > 1)\n",
    "\n",
    "df1.explain()\n",
    "df1.show(false)\n"
   ]
  },
  {
   "cell_type": "code",
   "execution_count": 14,
   "id": "e51701f1",
   "metadata": {},
   "outputs": [
    {
     "name": "stdout",
     "output_type": "stream",
     "text": [
      "== Physical Plan ==\n",
      "AdaptiveSparkPlan isFinalPlan=false\n",
      "+- HashAggregate(keys=[], functions=[count(1)])\n",
      "   +- Exchange SinglePartition, ENSURE_REQUIREMENTS, [plan_id=731]\n",
      "      +- HashAggregate(keys=[], functions=[partial_count(1)])\n",
      "         +- Project\n",
      "            +- Filter (job_count#289L > 1)\n",
      "               +- HashAggregate(keys=[company_id#14, title#15, description#16], functions=[count(1)])\n",
      "                  +- Exchange hashpartitioning(company_id#14, title#15, description#16, 200), ENSURE_REQUIREMENTS, [plan_id=725]\n",
      "                     +- HashAggregate(keys=[company_id#14, title#15, description#16], functions=[partial_count(1)])\n",
      "                        +- LocalTableScan [company_id#14, title#15, description#16]\n",
      "\n",
      "\n",
      "+-------------------+\n",
      "|duplicate_companies|\n",
      "+-------------------+\n",
      "|1                  |\n",
      "+-------------------+\n",
      "\n"
     ]
    },
    {
     "data": {
      "text/plain": [
       "df2: org.apache.spark.sql.DataFrame = [duplicate_companies: bigint]\n"
      ]
     },
     "execution_count": 14,
     "metadata": {},
     "output_type": "execute_result"
    }
   ],
   "source": [
    "// Using Spark SQL\n",
    "\n",
    "df.createOrReplaceTempView(\"jobs\")\n",
    "\n",
    "val df2 = spark.sql(\"\"\"\n",
    "    SELECT \n",
    "        COUNT(company_id) AS duplicate_companies\n",
    "    FROM\n",
    "    (\n",
    "        SELECT\n",
    "            company_id,\n",
    "            title,\n",
    "            description,\n",
    "            COUNT(job_id) AS job_count\n",
    "        FROM jobs\n",
    "        GROUP BY company_id,title,description\n",
    "    ) tmp\n",
    "    WHERE job_count > 1\n",
    "\"\"\")\n",
    "\n",
    "df2.explain()\n",
    "df2.show(false)\n"
   ]
  },
  {
   "cell_type": "code",
   "execution_count": null,
   "id": "bb60f6e3",
   "metadata": {},
   "outputs": [],
   "source": []
  }
 ],
 "metadata": {
  "kernelspec": {
   "display_name": "spylon-kernel",
   "language": "scala",
   "name": "spylon-kernel"
  },
  "language_info": {
   "codemirror_mode": "text/x-scala",
   "file_extension": ".scala",
   "help_links": [
    {
     "text": "MetaKernel Magics",
     "url": "https://metakernel.readthedocs.io/en/latest/source/README.html"
    }
   ],
   "mimetype": "text/x-scala",
   "name": "scala",
   "pygments_lexer": "scala",
   "version": "0.4.1"
  }
 },
 "nbformat": 4,
 "nbformat_minor": 5
}
